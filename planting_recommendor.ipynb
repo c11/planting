{
 "cells": [
  {
   "cell_type": "markdown",
   "metadata": {},
   "source": [
    "# Visualize Effects of Changing Forest Type Groups\n",
    "\n"
   ]
  },
  {
   "cell_type": "code",
   "execution_count": 1,
   "metadata": {},
   "outputs": [],
   "source": [
    "import pandas as pd\n",
    "import matplotlib.pyplot as plt\n",
    "import seaborn as sns\n"
   ]
  },
  {
   "cell_type": "code",
   "execution_count": 2,
   "metadata": {},
   "outputs": [],
   "source": [
    "\n",
    "carbon_file = \"dat/fulljoin_carbon_area.csv\"\n",
    "tdee_file = 'dat/RF_table_n10_with_cumTDEE.csv'\n",
    "\n",
    "carbon = pd.read_csv(carbon_file)\n",
    "carbon_attributes = [\"ForestTypeGroup\", \"AgeGroup\", \"carbon\",  \"carbon_se\"]\n",
    "carbon = carbon[carbon_attributes]\n",
    "\n",
    "tdee = pd.read_csv(tdee_file)\n",
    "tdee_attributes = [\"ForestTypeGroup\", \"albedoAgeGroup\", \"cumTDEE\", \"cumTDEE_ub\", \"cumTDEE_lb\"]\n",
    "tdee = tdee[tdee_attributes].rename(columns={\"albedoAgeGroup\": \"AgeGroup\"})\n",
    "\n",
    "# merge the two datasets\n",
    "carbon_tdee = carbon.merge(tdee, on=[\"ForestTypeGroup\", \"AgeGroup\"], how=\"inner\")\n",
    "carbon_tdee['NetCarbon'] = carbon_tdee['carbon'] - carbon_tdee['cumTDEE']\n",
    "\n",
    "\n",
    "gam_carbon_file = \"dat/gam_fia_carbon.csv\"\n",
    "gam_tdee_file = 'dat/gam_albedo_carbon.csv'\n",
    "\n",
    "gam_carbon = pd.read_csv(gam_carbon_file).rename(columns={\"GamCarbon\": \"carbon\"})\n",
    "gam_tdee = pd.read_csv(gam_tdee_file).rename(columns={\"GamCarbon\": \"cumTDEE\"})\n",
    "\n",
    "# merge the two datasets\n",
    "gam_carbon_tdee = gam_carbon.merge(gam_tdee, on=[\"ForestTypeGroup\", \"AgeGroup\"], how=\"inner\")\n",
    "\n",
    "gam_carbon_tdee['NetCarbon'] = gam_carbon_tdee['carbon'] - gam_carbon_tdee['cumTDEE']\n",
    "\n",
    "fortypes = gam_carbon['ForestTypeGroup'].unique()"
   ]
  },
  {
   "cell_type": "code",
   "execution_count": 3,
   "metadata": {},
   "outputs": [],
   "source": [
    "def plot_benefit_individual(df, gam_df, x_type, y_type):\n",
    "  \"\"\"visualize the benefit of two types\n",
    "\n",
    "  Args:\n",
    "      df (_type_): data frame of the dataset\n",
    "      x_type (_type_): original forest type group\n",
    "      y_type (_type_): target forest type group\n",
    "  \"\"\"\n",
    "  \n",
    "  df_xy = df[df['ForestTypeGroup'].isin([x_type, y_type])]\n",
    "  df_xy = df_xy[df_xy['AgeGroup']<=100]\n",
    "  gam_df_xy = gam_df[gam_df['ForestTypeGroup'].isin([x_type, y_type])]\n",
    "  gam_df_xy = gam_df_xy[gam_df_xy['AgeGroup']<=100]\n",
    "  \n",
    "  # plt.figure(figsize=(12, 8))\n",
    "  fig, axs = plt.subplots(2, 2, figsize=(15, 10))\n",
    "  axs = axs.flatten()\n",
    "  \n",
    "  vnames = ('carbon', 'cumTDEE', 'NetCarbon')\n",
    "  for i, v in enumerate(vnames):\n",
    "    sns.lineplot(gam_df_xy, x=\"AgeGroup\", y=v, ax=axs[i], hue=\"ForestTypeGroup\", legend=False)\n",
    "    sns.scatterplot(df_xy, x=\"AgeGroup\", y=v, ax=axs[i], hue=\"ForestTypeGroup\", legend=i==0)\n",
    "  \n",
    "  netx = df[df['ForestTypeGroup']==x_type][['AgeGroup', 'NetCarbon']]\n",
    "  nety = df[df['ForestTypeGroup']==y_type][['AgeGroup', 'NetCarbon']]\n",
    "  netxy = netx.merge(nety, on='AgeGroup', how=\"inner\")\n",
    "  netxy['deltaNetCarbon'] = -netxy['NetCarbon_x'] + netxy['NetCarbon_y']\n",
    "  netxy = netxy[netxy['AgeGroup'] <= 100]\n",
    "  \n",
    "  gam_netx = gam_df[gam_df['ForestTypeGroup']==x_type][['AgeGroup', 'NetCarbon']]\n",
    "  gam_nety = gam_df[gam_df['ForestTypeGroup']==y_type][['AgeGroup', 'NetCarbon']]\n",
    "  gam_netxy = gam_netx.merge(gam_nety, on='AgeGroup', how=\"inner\")\n",
    "  gam_netxy['deltaNetCarbon'] = - gam_netxy['NetCarbon_x'] + gam_netxy['NetCarbon_y']\n",
    "  gam_netxy = gam_netxy[gam_netxy['AgeGroup'] <= 100]\n",
    "  \n",
    "  sns.lineplot(gam_netxy, x=\"AgeGroup\", y='deltaNetCarbon', ax=axs[3], color=\"black\", legend=False)\n",
    "  sns.scatterplot(netxy, x=\"AgeGroup\", y='deltaNetCarbon', ax=axs[3], color=\"black\", )\n",
    " \n",
    "  fig.suptitle(f\"{x_type} → {y_type}\", fontsize=16, fontweight=\"bold\")\n",
    "  \n",
    "  plt.show()"
   ]
  },
  {
   "cell_type": "code",
   "execution_count": 4,
   "metadata": {},
   "outputs": [],
   "source": [
    "import ipywidgets as widgets\n",
    "from IPython.display import display"
   ]
  },
  {
   "cell_type": "code",
   "execution_count": 5,
   "metadata": {},
   "outputs": [
    {
     "data": {
      "application/vnd.jupyter.widget-view+json": {
       "model_id": "39166584ae134f4cba84d7d60324a12c",
       "version_major": 2,
       "version_minor": 0
      },
      "text/plain": [
       "VBox(children=(Dropdown(description='Current:', options=('Alder / maple', 'Aspen / birch', 'California mixed c…"
      ]
     },
     "metadata": {},
     "output_type": "display_data"
    },
    {
     "data": {
      "application/vnd.jupyter.widget-view+json": {
       "model_id": "80794a4d328446e28683c1fca76a86ad",
       "version_major": 2,
       "version_minor": 0
      },
      "text/plain": [
       "Output()"
      ]
     },
     "metadata": {},
     "output_type": "display_data"
    }
   ],
   "source": [
    "dd_start_fortype = widgets.Dropdown(\n",
    "  options=fortypes,\n",
    "  value=None,\n",
    "  description=\"Current:\"\n",
    ")\n",
    "\n",
    "dd_new_fortype = widgets.Dropdown(\n",
    "  options=fortypes,\n",
    "  value=None,\n",
    "  description=\"New:\"\n",
    ")\n",
    "\n",
    "toolbar = widgets.VBox([dd_start_fortype, dd_new_fortype])\n",
    "btn_run = widgets.Button(description=\"Update\")\n",
    "canvas = widgets.Output()\n",
    "\n",
    "display(toolbar, canvas)\n",
    "\n",
    "prev_start = '' # previous value for dd_start_fortype\n",
    "prev_new = '' # previous value for dd_new_fortype\n",
    "\n",
    "@canvas.capture(clear_output=True)\n",
    "def update_figure(dd):\n",
    "  if dd_start_fortype.value != None and dd_new_fortype.value != None:\n",
    "    plot_benefit_individual(carbon_tdee, gam_carbon_tdee, \n",
    "                        dd_start_fortype.value, dd_new_fortype.value)\n",
    "\n",
    "\n",
    "dd_start_fortype.observe(update_figure, names='value')\n",
    "dd_new_fortype.observe(update_figure, names='value')\n"
   ]
  }
 ],
 "metadata": {
  "kernelspec": {
   "display_name": "huggingface",
   "language": "python",
   "name": "python3"
  },
  "language_info": {
   "codemirror_mode": {
    "name": "ipython",
    "version": 3
   },
   "file_extension": ".py",
   "mimetype": "text/x-python",
   "name": "python",
   "nbconvert_exporter": "python",
   "pygments_lexer": "ipython3",
   "version": "3.12.6"
  }
 },
 "nbformat": 4,
 "nbformat_minor": 2
}
